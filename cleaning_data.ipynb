{
 "cells": [
  {
   "cell_type": "code",
   "execution_count": 39,
   "id": "9cc6f02a",
   "metadata": {},
   "outputs": [],
   "source": [
    "import pandas as pd"
   ]
  },
  {
   "cell_type": "code",
   "execution_count": 40,
   "id": "c4dc4cd2",
   "metadata": {},
   "outputs": [],
   "source": [
    "df = pd.read_csv(\"Dataset/results_cleaned.csv\")"
   ]
  },
  {
   "cell_type": "code",
   "execution_count": 41,
   "id": "e53aefe3",
   "metadata": {},
   "outputs": [
    {
     "name": "stdout",
     "output_type": "stream",
     "text": [
      "Data awal:\n",
      "                                          house_name        location  \\\n",
      "0  Rumah 2 Lantai Bagus Sertifikat Hak Milik di M...  Andir, Bandung   \n",
      "1                    Rumah Cantik @ Andir (Sudirman)  Andir, Bandung   \n",
      "2  Jual Cepat Rumah di Maleber Rajawali Bisa Untu...  Andir, Bandung   \n",
      "3  Rumah minimalis 3 lantai di andir Bandung coco...  Andir, Bandung   \n",
      "4  Jual Rumah Murah Bisa Dijadikan Kos”an Di Jala...  Andir, Bandung   \n",
      "\n",
      "   bedroom_count  bathroom_count  carport_count       price  land_area  \\\n",
      "0              3               2              2  2100000000        137   \n",
      "1              3               2              3  4100000000        202   \n",
      "2              5               2              1  3300000000        350   \n",
      "3              2               2              1   580000000         30   \n",
      "4             11               3              0  1300000000        176   \n",
      "\n",
      "   building_area (m2)  \n",
      "0                 170  \n",
      "1                 300  \n",
      "2                 258  \n",
      "3                  80  \n",
      "4                 176  \n"
     ]
    }
   ],
   "source": [
    "# Tampilkan beberapa data pertama untuk memastikan data sudah dimuat dengan benar\n",
    "print(\"Data awal:\")\n",
    "print(df.head())\n",
    "\n"
   ]
  },
  {
   "cell_type": "code",
   "execution_count": 42,
   "id": "4aadd113",
   "metadata": {},
   "outputs": [
    {
     "name": "stdout",
     "output_type": "stream",
     "text": [
      "\n",
      "Jumlah missing value di setiap kolom:\n",
      "house_name            0\n",
      "location              0\n",
      "bedroom_count         0\n",
      "bathroom_count        0\n",
      "carport_count         0\n",
      "price                 0\n",
      "land_area             0\n",
      "building_area (m2)    0\n",
      "dtype: int64\n"
     ]
    }
   ],
   "source": [
    "# Cek jumlah missing value di setiap kolom\n",
    "print(\"\\nJumlah missing value di setiap kolom:\")\n",
    "print(df.isnull().sum())"
   ]
  },
  {
   "cell_type": "code",
   "execution_count": 43,
   "id": "404e0c01",
   "metadata": {},
   "outputs": [
    {
     "name": "stdout",
     "output_type": "stream",
     "text": [
      "\n",
      "Jumlah missing value di setiap kolom setelah dihapus:\n",
      "house_name            0\n",
      "location              0\n",
      "bedroom_count         0\n",
      "bathroom_count        0\n",
      "carport_count         0\n",
      "price                 0\n",
      "land_area             0\n",
      "building_area (m2)    0\n",
      "dtype: int64\n"
     ]
    }
   ],
   "source": [
    "# Cek jumlah missing value di setiap kolom setelah dihapus\n",
    "print(\"\\nJumlah missing value di setiap kolom setelah dihapus:\")\n",
    "print(df.isnull().sum())\n"
   ]
  },
  {
   "cell_type": "code",
   "execution_count": 44,
   "id": "87bfb05c",
   "metadata": {},
   "outputs": [
    {
     "name": "stdout",
     "output_type": "stream",
     "text": [
      "\n",
      "Data setelah menghapus missing values:\n",
      "                                          house_name        location  \\\n",
      "0  Rumah 2 Lantai Bagus Sertifikat Hak Milik di M...  Andir, Bandung   \n",
      "1                    Rumah Cantik @ Andir (Sudirman)  Andir, Bandung   \n",
      "2  Jual Cepat Rumah di Maleber Rajawali Bisa Untu...  Andir, Bandung   \n",
      "3  Rumah minimalis 3 lantai di andir Bandung coco...  Andir, Bandung   \n",
      "4  Jual Rumah Murah Bisa Dijadikan Kos”an Di Jala...  Andir, Bandung   \n",
      "\n",
      "   bedroom_count  bathroom_count  carport_count       price  land_area  \\\n",
      "0              3               2              2  2100000000        137   \n",
      "1              3               2              3  4100000000        202   \n",
      "2              5               2              1  3300000000        350   \n",
      "3              2               2              1   580000000         30   \n",
      "4             11               3              0  1300000000        176   \n",
      "\n",
      "   building_area (m2)  \n",
      "0                 170  \n",
      "1                 300  \n",
      "2                 258  \n",
      "3                  80  \n",
      "4                 176  \n"
     ]
    }
   ],
   "source": [
    "# Tampilkan beberapa data setelah penghapusan untuk memastikan hasilnya\n",
    "print(\"\\nData setelah menghapus missing values:\")\n",
    "print(df.head())"
   ]
  },
  {
   "cell_type": "code",
   "execution_count": 45,
   "id": "a50ebb5d",
   "metadata": {},
   "outputs": [],
   "source": [
    "# Simpan data yang sudah dibersihkan ke file baru\n",
    "df.to_csv(\"Dataset/results_cleaned_no_null.csv\", index=False)\n"
   ]
  },
  {
   "cell_type": "code",
   "execution_count": 46,
   "id": "7e6b07a6",
   "metadata": {},
   "outputs": [
    {
     "name": "stdout",
     "output_type": "stream",
     "text": [
      "\n",
      "Jumlah baris dan kolom setelah dihapus data null:\n",
      "(7609, 8)\n"
     ]
    }
   ],
   "source": [
    "# Tampilkan informasi jumlah baris dan kolom setelah dihapus\n",
    "print(\"\\nJumlah baris dan kolom setelah dihapus data null:\")\n",
    "print(df.shape)"
   ]
  }
 ],
 "metadata": {
  "kernelspec": {
   "display_name": "Python 3",
   "language": "python",
   "name": "python3"
  },
  "language_info": {
   "codemirror_mode": {
    "name": "ipython",
    "version": 3
   },
   "file_extension": ".py",
   "mimetype": "text/x-python",
   "name": "python",
   "nbconvert_exporter": "python",
   "pygments_lexer": "ipython3",
   "version": "3.11.9"
  }
 },
 "nbformat": 4,
 "nbformat_minor": 5
}
