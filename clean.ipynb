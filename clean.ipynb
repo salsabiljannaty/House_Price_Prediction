{
 "cells": [
  {
   "cell_type": "code",
   "execution_count": 14,
   "id": "6fddeaa1",
   "metadata": {},
   "outputs": [],
   "source": [
    "import pandas as pd\n",
    "import numpy as np"
   ]
  },
  {
   "cell_type": "code",
   "execution_count": 15,
   "id": "79505e78",
   "metadata": {},
   "outputs": [
    {
     "name": "stdout",
     "output_type": "stream",
     "text": [
      "Data awal:\n",
      "                                          house_name        location  \\\n",
      "0  Rumah 2 Lantai Bagus Sertifikat Hak Milik di M...  Andir, Bandung   \n",
      "1                    Rumah Cantik @ Andir (Sudirman)  Andir, Bandung   \n",
      "2  Jual Cepat Rumah di Maleber Rajawali Bisa Untu...  Andir, Bandung   \n",
      "3  Rumah minimalis 3 lantai di andir Bandung coco...  Andir, Bandung   \n",
      "4  Jual Rumah Murah Bisa Dijadikan Kos”an Di Jala...  Andir, Bandung   \n",
      "\n",
      "   bedroom_count  bathroom_count  carport_count       price  land_area  \\\n",
      "0              3               2              2  2100000000        137   \n",
      "1              3               2              3  4100000000        202   \n",
      "2              5               2              1  3300000000        350   \n",
      "3              2               2              1   580000000         30   \n",
      "4             11               3              0  1300000000        176   \n",
      "\n",
      "   building_area (m2)  \n",
      "0                 170  \n",
      "1                 300  \n",
      "2                 258  \n",
      "3                  80  \n",
      "4                 176  \n"
     ]
    }
   ],
   "source": [
    "# 1. Load Data\n",
    "df = pd.read_csv(\"Dataset/results_cleaned.csv\")\n",
    "print(\"Data awal:\")\n",
    "print(df.head())"
   ]
  },
  {
   "cell_type": "code",
   "execution_count": 16,
   "id": "1f38efe5",
   "metadata": {},
   "outputs": [
    {
     "name": "stdout",
     "output_type": "stream",
     "text": [
      "\n",
      "Jumlah missing value sebelum ditangani:\n",
      "house_name            0\n",
      "location              0\n",
      "bedroom_count         0\n",
      "bathroom_count        0\n",
      "carport_count         0\n",
      "price                 0\n",
      "land_area             0\n",
      "building_area (m2)    0\n",
      "dtype: int64\n"
     ]
    }
   ],
   "source": [
    "# 2. Tampilkan Jumlah Data Hilang\n",
    "print(\"\\nJumlah missing value sebelum ditangani:\")\n",
    "print(df.isnull().sum())"
   ]
  },
  {
   "cell_type": "code",
   "execution_count": 17,
   "id": "bd1f9ddc",
   "metadata": {},
   "outputs": [
    {
     "name": "stdout",
     "output_type": "stream",
     "text": [
      "\n",
      "Jumlah data setelah menghapus duplikat: (6992, 8)\n"
     ]
    }
   ],
   "source": [
    "# 3. Hapus Duplikat\n",
    "df.drop_duplicates(inplace=True)\n",
    "print(\"\\nJumlah data setelah menghapus duplikat:\", df.shape)\n"
   ]
  },
  {
   "cell_type": "code",
   "execution_count": 18,
   "id": "de2c3c0e",
   "metadata": {},
   "outputs": [],
   "source": [
    "for col in df.columns:\n",
    "    if df[col].dtype in ['float64', 'int64']:\n",
    "        df[col] = df[col].fillna(df[col].median())\n",
    "    else:\n",
    "        df[col] = df[col].fillna(df[col].mode()[0])\n"
   ]
  },
  {
   "cell_type": "code",
   "execution_count": 19,
   "id": "ea18d77d",
   "metadata": {},
   "outputs": [
    {
     "name": "stdout",
     "output_type": "stream",
     "text": [
      "\n",
      "Jumlah missing value setelah ditangani:\n",
      "house_name            0\n",
      "location              0\n",
      "bedroom_count         0\n",
      "bathroom_count        0\n",
      "carport_count         0\n",
      "price                 0\n",
      "land_area             0\n",
      "building_area (m2)    0\n",
      "dtype: int64\n"
     ]
    }
   ],
   "source": [
    "print(\"\\nJumlah missing value setelah ditangani:\")\n",
    "print(df.isnull().sum())"
   ]
  },
  {
   "cell_type": "code",
   "execution_count": 20,
   "id": "4777de8c",
   "metadata": {},
   "outputs": [],
   "source": [
    "# 5. Perbaiki Kesalahan Struktural (nama kolom)\n",
    "df.columns = df.columns.str.strip().str.lower().str.replace(' ', '_')"
   ]
  },
  {
   "cell_type": "code",
   "execution_count": 21,
   "id": "87527c80",
   "metadata": {},
   "outputs": [],
   "source": [
    "# 6. Saring Outlier dengan metode IQR\n",
    "numerik = df.select_dtypes(include=[np.number]).columns\n",
    "for col in numerik:\n",
    "    Q1 = df[col].quantile(0.25)\n",
    "    Q3 = df[col].quantile(0.75)\n",
    "    IQR = Q3 - Q1\n",
    "    lower_bound = Q1 - 1.5 * IQR\n",
    "    upper_bound = Q3 + 1.5 * IQR\n",
    "    df = df[(df[col] >= lower_bound) & (df[col] <= upper_bound)]"
   ]
  },
  {
   "cell_type": "code",
   "execution_count": 22,
   "id": "a5696883",
   "metadata": {},
   "outputs": [
    {
     "name": "stdout",
     "output_type": "stream",
     "text": [
      "\n",
      "Jumlah data setelah menghapus outlier: (4780, 8)\n"
     ]
    }
   ],
   "source": [
    "print(\"\\nJumlah data setelah menghapus outlier:\", df.shape)"
   ]
  },
  {
   "cell_type": "code",
   "execution_count": 23,
   "id": "fcbf2d0f",
   "metadata": {},
   "outputs": [
    {
     "name": "stdout",
     "output_type": "stream",
     "text": [
      "\n",
      "Tipe data kolom:\n",
      "house_name            object\n",
      "location              object\n",
      "bedroom_count          int64\n",
      "bathroom_count         int64\n",
      "carport_count          int64\n",
      "price                  int64\n",
      "land_area              int64\n",
      "building_area_(m2)     int64\n",
      "dtype: object\n"
     ]
    }
   ],
   "source": [
    "# 7. Validasi Tipe Data\n",
    "print(\"\\nTipe data kolom:\")\n",
    "print(df.dtypes)"
   ]
  },
  {
   "cell_type": "code",
   "execution_count": 24,
   "id": "6e79f519",
   "metadata": {},
   "outputs": [],
   "source": [
    "# 8. Validasi Nilai Negatif (contoh untuk kolom 'bedroom_count')\n",
    "if 'bedroom_count' in df.columns:\n",
    "    df = df[df['bedroom_count'] >= 0]"
   ]
  },
  {
   "cell_type": "code",
   "execution_count": 25,
   "id": "fb951c09",
   "metadata": {},
   "outputs": [
    {
     "name": "stdout",
     "output_type": "stream",
     "text": [
      "\n",
      "Dataset telah disimpan ke 'results_cleaned_final.csv'\n"
     ]
    }
   ],
   "source": [
    "# 9. Simpan hasil data cleaning\n",
    "df.to_csv(\"Dataset/results_cleaned_final.csv\", index=False)\n",
    "print(\"\\nDataset telah disimpan ke 'results_cleaned_final.csv'\")"
   ]
  }
 ],
 "metadata": {
  "kernelspec": {
   "display_name": "Python 3",
   "language": "python",
   "name": "python3"
  },
  "language_info": {
   "codemirror_mode": {
    "name": "ipython",
    "version": 3
   },
   "file_extension": ".py",
   "mimetype": "text/x-python",
   "name": "python",
   "nbconvert_exporter": "python",
   "pygments_lexer": "ipython3",
   "version": "3.11.9"
  }
 },
 "nbformat": 4,
 "nbformat_minor": 5
}
