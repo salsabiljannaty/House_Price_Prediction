{
 "cells": [
  {
   "cell_type": "code",
   "execution_count": 2,
   "id": "af9b629e",
   "metadata": {},
   "outputs": [
    {
     "data": {
      "text/html": [
       "<div>\n",
       "<style scoped>\n",
       "    .dataframe tbody tr th:only-of-type {\n",
       "        vertical-align: middle;\n",
       "    }\n",
       "\n",
       "    .dataframe tbody tr th {\n",
       "        vertical-align: top;\n",
       "    }\n",
       "\n",
       "    .dataframe thead th {\n",
       "        text-align: right;\n",
       "    }\n",
       "</style>\n",
       "<table border=\"1\" class=\"dataframe\">\n",
       "  <thead>\n",
       "    <tr style=\"text-align: right;\">\n",
       "      <th></th>\n",
       "      <th>price</th>\n",
       "      <th>bedrooms</th>\n",
       "      <th>bathrooms</th>\n",
       "      <th>sqft_living</th>\n",
       "      <th>sqft_lot</th>\n",
       "      <th>floors</th>\n",
       "      <th>waterfront</th>\n",
       "      <th>view</th>\n",
       "      <th>condition</th>\n",
       "      <th>sqft_above</th>\n",
       "      <th>sqft_basement</th>\n",
       "      <th>yr_built</th>\n",
       "      <th>yr_renovated</th>\n",
       "      <th>city</th>\n",
       "      <th>statezip</th>\n",
       "    </tr>\n",
       "  </thead>\n",
       "  <tbody>\n",
       "    <tr>\n",
       "      <th>0</th>\n",
       "      <td>313000.0</td>\n",
       "      <td>3.0</td>\n",
       "      <td>1.50</td>\n",
       "      <td>1340</td>\n",
       "      <td>7912</td>\n",
       "      <td>1.5</td>\n",
       "      <td>0</td>\n",
       "      <td>0</td>\n",
       "      <td>3</td>\n",
       "      <td>1340</td>\n",
       "      <td>0</td>\n",
       "      <td>1955</td>\n",
       "      <td>2005</td>\n",
       "      <td>36</td>\n",
       "      <td>62</td>\n",
       "    </tr>\n",
       "    <tr>\n",
       "      <th>1</th>\n",
       "      <td>342000.0</td>\n",
       "      <td>3.0</td>\n",
       "      <td>2.00</td>\n",
       "      <td>1930</td>\n",
       "      <td>11947</td>\n",
       "      <td>1.0</td>\n",
       "      <td>0</td>\n",
       "      <td>0</td>\n",
       "      <td>4</td>\n",
       "      <td>1930</td>\n",
       "      <td>0</td>\n",
       "      <td>1966</td>\n",
       "      <td>0</td>\n",
       "      <td>18</td>\n",
       "      <td>26</td>\n",
       "    </tr>\n",
       "    <tr>\n",
       "      <th>2</th>\n",
       "      <td>420000.0</td>\n",
       "      <td>3.0</td>\n",
       "      <td>2.25</td>\n",
       "      <td>2000</td>\n",
       "      <td>8030</td>\n",
       "      <td>1.0</td>\n",
       "      <td>0</td>\n",
       "      <td>0</td>\n",
       "      <td>4</td>\n",
       "      <td>1000</td>\n",
       "      <td>1000</td>\n",
       "      <td>1963</td>\n",
       "      <td>0</td>\n",
       "      <td>3</td>\n",
       "      <td>7</td>\n",
       "    </tr>\n",
       "    <tr>\n",
       "      <th>3</th>\n",
       "      <td>550000.0</td>\n",
       "      <td>4.0</td>\n",
       "      <td>2.50</td>\n",
       "      <td>1940</td>\n",
       "      <td>10500</td>\n",
       "      <td>1.0</td>\n",
       "      <td>0</td>\n",
       "      <td>0</td>\n",
       "      <td>4</td>\n",
       "      <td>1140</td>\n",
       "      <td>800</td>\n",
       "      <td>1976</td>\n",
       "      <td>1992</td>\n",
       "      <td>31</td>\n",
       "      <td>31</td>\n",
       "    </tr>\n",
       "    <tr>\n",
       "      <th>4</th>\n",
       "      <td>490000.0</td>\n",
       "      <td>2.0</td>\n",
       "      <td>1.00</td>\n",
       "      <td>880</td>\n",
       "      <td>6380</td>\n",
       "      <td>1.0</td>\n",
       "      <td>0</td>\n",
       "      <td>0</td>\n",
       "      <td>3</td>\n",
       "      <td>880</td>\n",
       "      <td>0</td>\n",
       "      <td>1938</td>\n",
       "      <td>1994</td>\n",
       "      <td>35</td>\n",
       "      <td>54</td>\n",
       "    </tr>\n",
       "  </tbody>\n",
       "</table>\n",
       "</div>"
      ],
      "text/plain": [
       "      price  bedrooms  bathrooms  sqft_living  sqft_lot  floors  waterfront  \\\n",
       "0  313000.0       3.0       1.50         1340      7912     1.5           0   \n",
       "1  342000.0       3.0       2.00         1930     11947     1.0           0   \n",
       "2  420000.0       3.0       2.25         2000      8030     1.0           0   \n",
       "3  550000.0       4.0       2.50         1940     10500     1.0           0   \n",
       "4  490000.0       2.0       1.00          880      6380     1.0           0   \n",
       "\n",
       "   view  condition  sqft_above  sqft_basement  yr_built  yr_renovated  city  \\\n",
       "0     0          3        1340              0      1955          2005    36   \n",
       "1     0          4        1930              0      1966             0    18   \n",
       "2     0          4        1000           1000      1963             0     3   \n",
       "3     0          4        1140            800      1976          1992    31   \n",
       "4     0          3         880              0      1938          1994    35   \n",
       "\n",
       "   statezip  \n",
       "0        62  \n",
       "1        26  \n",
       "2         7  \n",
       "3        31  \n",
       "4        54  "
      ]
     },
     "execution_count": 2,
     "metadata": {},
     "output_type": "execute_result"
    }
   ],
   "source": [
    "import pandas as pd\n",
    "\n",
    "# Membaca dataset (ganti nama file sesuai dataset kamu)\n",
    "df = pd.read_csv(\"dataset/data_bersih.csv\")\n",
    "\n",
    "# Menampilkan 5 baris pertama\n",
    "df.head()"
   ]
  },
  {
   "cell_type": "code",
   "execution_count": 3,
   "id": "0d47a586",
   "metadata": {},
   "outputs": [
    {
     "name": "stdout",
     "output_type": "stream",
     "text": [
      "\n",
      "Jumlah data awal (baris, kolom): (3316, 15)\n"
     ]
    }
   ],
   "source": [
    "# Menampilkan jumlah data\n",
    "print(\"\\nJumlah data awal (baris, kolom):\", df.shape)"
   ]
  },
  {
   "cell_type": "code",
   "execution_count": 4,
   "id": "bcdae680",
   "metadata": {},
   "outputs": [],
   "source": [
    "# Memilih hanya kolom numerik\n",
    "numerical_df = df.select_dtypes(include=['float64', 'int64'])\n",
    "\n",
    "# Menampilkan statistik deskriptif\n",
    "descriptive_stats = numerical_df.describe()"
   ]
  },
  {
   "cell_type": "code",
   "execution_count": 5,
   "id": "9880c8fe",
   "metadata": {},
   "outputs": [
    {
     "name": "stdout",
     "output_type": "stream",
     "text": [
      "\n",
      "Statistik Deskriptif:\n",
      "              price    bedrooms    bathrooms  sqft_living      sqft_lot  \\\n",
      "count  3.316000e+03  3316.00000  3316.000000  3316.000000   3316.000000   \n",
      "mean   4.469004e+05     3.26146     1.997286  1837.303076   7026.547648   \n",
      "std    1.928517e+05     0.77095     0.647591   619.633395   3412.850688   \n",
      "min    0.000000e+00     2.00000     0.750000   580.000000    681.000000   \n",
      "25%    3.000000e+05     3.00000     1.500000  1360.000000   4622.750000   \n",
      "50%    4.150000e+05     3.00000     2.000000  1780.000000   7034.500000   \n",
      "75%    5.600000e+05     4.00000     2.500000  2250.000000   9042.750000   \n",
      "max    1.150000e+06     5.00000     3.500000  3910.000000  18362.000000   \n",
      "\n",
      "            floors  waterfront    view    condition   sqft_above  \\\n",
      "count  3316.000000      3316.0  3316.0  3316.000000  3316.000000   \n",
      "mean      1.491104         0.0     0.0     3.452051  1602.715320   \n",
      "std       0.545373         0.0     0.0     0.665318   614.226407   \n",
      "min       1.000000         0.0     0.0     2.000000   580.000000   \n",
      "25%       1.000000         0.0     0.0     3.000000  1130.000000   \n",
      "50%       1.500000         0.0     0.0     3.000000  1440.000000   \n",
      "75%       2.000000         0.0     0.0     4.000000  1980.000000   \n",
      "max       3.500000         0.0     0.0     5.000000  3340.000000   \n",
      "\n",
      "       sqft_basement     yr_built  yr_renovated         city     statezip  \n",
      "count    3316.000000  3316.000000   3316.000000  3316.000000  3316.000000  \n",
      "mean      234.587756  1970.381484    809.420688    25.996381    39.405006  \n",
      "std       355.348334    30.268932    979.477778    11.638392    20.826679  \n",
      "min         0.000000  1900.000000      0.000000     0.000000     0.000000  \n",
      "25%         0.000000  1950.000000      0.000000    18.000000    22.000000  \n",
      "50%         0.000000  1973.000000      0.000000    32.000000    42.000000  \n",
      "75%       490.000000  1998.000000   1999.000000    35.000000    57.000000  \n",
      "max      1250.000000  2014.000000   2014.000000    43.000000    76.000000  \n"
     ]
    }
   ],
   "source": [
    "# Menampilkan statistik deskriptif dalam bentuk tabel\n",
    "print(\"\\nStatistik Deskriptif:\")\n",
    "print(descriptive_stats)"
   ]
  },
  {
   "cell_type": "code",
   "execution_count": 6,
   "id": "fdffe217",
   "metadata": {},
   "outputs": [
    {
     "name": "stdout",
     "output_type": "stream",
     "text": [
      "\n",
      "Jumlah nilai 0 pada kolom numerik:\n",
      "price              22\n",
      "bedrooms            0\n",
      "bathrooms           0\n",
      "sqft_living         0\n",
      "sqft_lot            0\n",
      "floors              0\n",
      "waterfront       3316\n",
      "view             3316\n",
      "condition           0\n",
      "sqft_above          0\n",
      "sqft_basement    2106\n",
      "yr_built            0\n",
      "yr_renovated     1970\n",
      "city                4\n",
      "statezip           51\n",
      "dtype: int64\n"
     ]
    }
   ],
   "source": [
    "zero_values = (df[numerical_df.columns] == 0).sum()\n",
    "print(\"\\nJumlah nilai 0 pada kolom numerik:\")\n",
    "print(zero_values)"
   ]
  },
  {
   "cell_type": "code",
   "execution_count": 7,
   "id": "daf6821f",
   "metadata": {},
   "outputs": [
    {
     "name": "stdout",
     "output_type": "stream",
     "text": [
      "\n",
      "Tabel statistik deskriptif telah disimpan ke 'dataset/statistics_summary.csv'\n"
     ]
    }
   ],
   "source": [
    "descriptive_stats.to_csv(\"Dataset/statistics_summary.csv\")\n",
    "\n",
    "print(\"\\nTabel statistik deskriptif telah disimpan ke 'dataset/statistics_summary.csv'\")"
   ]
  }
 ],
 "metadata": {
  "kernelspec": {
   "display_name": "Python 3",
   "language": "python",
   "name": "python3"
  },
  "language_info": {
   "codemirror_mode": {
    "name": "ipython",
    "version": 3
   },
   "file_extension": ".py",
   "mimetype": "text/x-python",
   "name": "python",
   "nbconvert_exporter": "python",
   "pygments_lexer": "ipython3",
   "version": "3.11.9"
  }
 },
 "nbformat": 4,
 "nbformat_minor": 5
}
